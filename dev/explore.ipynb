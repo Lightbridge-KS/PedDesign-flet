{
 "cells": [
  {
   "cell_type": "markdown",
   "metadata": {},
   "source": [
    "# Explore Stuff"
   ]
  },
  {
   "cell_type": "markdown",
   "metadata": {},
   "source": [
    "## Build App\n",
    "\n",
    "- flet pack main.py --name PedDesignCT --icon assets/icon.png --product-name PedDesignCT --product-version \"0.0.1\" --copyright \"Copyright (c) 2024 Lightbridge-KS.\"\n",
    "\n",
    "### MacOS\n",
    "\n",
    "```shell\n",
    "flet build macos --build-version \"0.0.1\" --copyright \"Copyright (c) 2024 Lightbridge-KS\"\n",
    "```\n"
   ]
  },
  {
   "cell_type": "code",
   "execution_count": 5,
   "metadata": {},
   "outputs": [],
   "source": [
    "def build_app_print(type, version = \"0.0.1\"):\n",
    "    print(f'flet build {type} --build-version {version} --copyright \"Copyright (c) 2024 Lightbridge-KS.\"')"
   ]
  },
  {
   "cell_type": "code",
   "execution_count": 6,
   "metadata": {},
   "outputs": [
    {
     "name": "stdout",
     "output_type": "stream",
     "text": [
      "flet build macos --build-version 0.0.1 --copyright \"Copyright (c) 2024 Lightbridge-KS.\"\n"
     ]
    }
   ],
   "source": [
    "build_app_print(\"macos\", \"0.0.1\")"
   ]
  },
  {
   "cell_type": "code",
   "execution_count": 3,
   "metadata": {},
   "outputs": [
    {
     "data": {
      "text/plain": [
       "[False, True]"
      ]
     },
     "execution_count": 3,
     "metadata": {},
     "output_type": "execute_result"
    }
   ],
   "source": [
    "rate_formula_dict = {\n",
    "    False: \"no_delay\",\n",
    "    True: \"delay\"\n",
    "}\n",
    "\n",
    "[k for k in rate_formula_dict.keys()]"
   ]
  },
  {
   "cell_type": "code",
   "execution_count": 5,
   "metadata": {},
   "outputs": [
    {
     "data": {
      "text/plain": [
       "'no_delay'"
      ]
     },
     "execution_count": 5,
     "metadata": {},
     "output_type": "execute_result"
    }
   ],
   "source": [
    "rate_formula_dict[False]"
   ]
  },
  {
   "cell_type": "code",
   "execution_count": 7,
   "metadata": {},
   "outputs": [
    {
     "data": {
      "text/plain": [
       "False"
      ]
     },
     "execution_count": 7,
     "metadata": {},
     "output_type": "execute_result"
    }
   ],
   "source": [
    "False if (True and False) else True\n",
    "not True"
   ]
  }
 ],
 "metadata": {
  "kernelspec": {
   "display_name": "Python 3",
   "language": "python",
   "name": "python3"
  },
  "language_info": {
   "codemirror_mode": {
    "name": "ipython",
    "version": 3
   },
   "file_extension": ".py",
   "mimetype": "text/x-python",
   "name": "python",
   "nbconvert_exporter": "python",
   "pygments_lexer": "ipython3",
   "version": "3.10.10"
  }
 },
 "nbformat": 4,
 "nbformat_minor": 2
}
